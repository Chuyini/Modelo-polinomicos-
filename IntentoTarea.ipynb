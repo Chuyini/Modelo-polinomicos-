{
  "cells": [
    {
      "cell_type": "markdown",
      "metadata": {
        "id": "view-in-github",
        "colab_type": "text"
      },
      "source": [
        "<a href=\"https://colab.research.google.com/github/Chuyini/Modelo-polinomicos-/blob/main/IntentoTarea.ipynb\" target=\"_parent\"><img src=\"https://colab.research.google.com/assets/colab-badge.svg\" alt=\"Open In Colab\"/></a>"
      ]
    },
    {
      "cell_type": "code",
      "execution_count": null,
      "metadata": {
        "colab": {
          "background_save": true,
          "base_uri": "https://localhost:8080/",
          "height": 38
        },
        "id": "620x75mEExPQ",
        "outputId": "097c5338-379e-4cd7-8ca0-c3726f8fc079"
      },
      "outputs": [
        {
          "data": {
            "text/html": [
              "\n",
              "     <input type=\"file\" id=\"files-cc24aad9-0d30-4f8e-a2ca-b03cb3ad668b\" name=\"files[]\" multiple disabled\n",
              "        style=\"border:none\" />\n",
              "     <output id=\"result-cc24aad9-0d30-4f8e-a2ca-b03cb3ad668b\">\n",
              "      Upload widget is only available when the cell has been executed in the\n",
              "      current browser session. Please rerun this cell to enable.\n",
              "      </output>\n",
              "      <script>// Copyright 2017 Google LLC\n",
              "//\n",
              "// Licensed under the Apache License, Version 2.0 (the \"License\");\n",
              "// you may not use this file except in compliance with the License.\n",
              "// You may obtain a copy of the License at\n",
              "//\n",
              "//      http://www.apache.org/licenses/LICENSE-2.0\n",
              "//\n",
              "// Unless required by applicable law or agreed to in writing, software\n",
              "// distributed under the License is distributed on an \"AS IS\" BASIS,\n",
              "// WITHOUT WARRANTIES OR CONDITIONS OF ANY KIND, either express or implied.\n",
              "// See the License for the specific language governing permissions and\n",
              "// limitations under the License.\n",
              "\n",
              "/**\n",
              " * @fileoverview Helpers for google.colab Python module.\n",
              " */\n",
              "(function(scope) {\n",
              "function span(text, styleAttributes = {}) {\n",
              "  const element = document.createElement('span');\n",
              "  element.textContent = text;\n",
              "  for (const key of Object.keys(styleAttributes)) {\n",
              "    element.style[key] = styleAttributes[key];\n",
              "  }\n",
              "  return element;\n",
              "}\n",
              "\n",
              "// Max number of bytes which will be uploaded at a time.\n",
              "const MAX_PAYLOAD_SIZE = 100 * 1024;\n",
              "\n",
              "function _uploadFiles(inputId, outputId) {\n",
              "  const steps = uploadFilesStep(inputId, outputId);\n",
              "  const outputElement = document.getElementById(outputId);\n",
              "  // Cache steps on the outputElement to make it available for the next call\n",
              "  // to uploadFilesContinue from Python.\n",
              "  outputElement.steps = steps;\n",
              "\n",
              "  return _uploadFilesContinue(outputId);\n",
              "}\n",
              "\n",
              "// This is roughly an async generator (not supported in the browser yet),\n",
              "// where there are multiple asynchronous steps and the Python side is going\n",
              "// to poll for completion of each step.\n",
              "// This uses a Promise to block the python side on completion of each step,\n",
              "// then passes the result of the previous step as the input to the next step.\n",
              "function _uploadFilesContinue(outputId) {\n",
              "  const outputElement = document.getElementById(outputId);\n",
              "  const steps = outputElement.steps;\n",
              "\n",
              "  const next = steps.next(outputElement.lastPromiseValue);\n",
              "  return Promise.resolve(next.value.promise).then((value) => {\n",
              "    // Cache the last promise value to make it available to the next\n",
              "    // step of the generator.\n",
              "    outputElement.lastPromiseValue = value;\n",
              "    return next.value.response;\n",
              "  });\n",
              "}\n",
              "\n",
              "/**\n",
              " * Generator function which is called between each async step of the upload\n",
              " * process.\n",
              " * @param {string} inputId Element ID of the input file picker element.\n",
              " * @param {string} outputId Element ID of the output display.\n",
              " * @return {!Iterable<!Object>} Iterable of next steps.\n",
              " */\n",
              "function* uploadFilesStep(inputId, outputId) {\n",
              "  const inputElement = document.getElementById(inputId);\n",
              "  inputElement.disabled = false;\n",
              "\n",
              "  const outputElement = document.getElementById(outputId);\n",
              "  outputElement.innerHTML = '';\n",
              "\n",
              "  const pickedPromise = new Promise((resolve) => {\n",
              "    inputElement.addEventListener('change', (e) => {\n",
              "      resolve(e.target.files);\n",
              "    });\n",
              "  });\n",
              "\n",
              "  const cancel = document.createElement('button');\n",
              "  inputElement.parentElement.appendChild(cancel);\n",
              "  cancel.textContent = 'Cancel upload';\n",
              "  const cancelPromise = new Promise((resolve) => {\n",
              "    cancel.onclick = () => {\n",
              "      resolve(null);\n",
              "    };\n",
              "  });\n",
              "\n",
              "  // Wait for the user to pick the files.\n",
              "  const files = yield {\n",
              "    promise: Promise.race([pickedPromise, cancelPromise]),\n",
              "    response: {\n",
              "      action: 'starting',\n",
              "    }\n",
              "  };\n",
              "\n",
              "  cancel.remove();\n",
              "\n",
              "  // Disable the input element since further picks are not allowed.\n",
              "  inputElement.disabled = true;\n",
              "\n",
              "  if (!files) {\n",
              "    return {\n",
              "      response: {\n",
              "        action: 'complete',\n",
              "      }\n",
              "    };\n",
              "  }\n",
              "\n",
              "  for (const file of files) {\n",
              "    const li = document.createElement('li');\n",
              "    li.append(span(file.name, {fontWeight: 'bold'}));\n",
              "    li.append(span(\n",
              "        `(${file.type || 'n/a'}) - ${file.size} bytes, ` +\n",
              "        `last modified: ${\n",
              "            file.lastModifiedDate ? file.lastModifiedDate.toLocaleDateString() :\n",
              "                                    'n/a'} - `));\n",
              "    const percent = span('0% done');\n",
              "    li.appendChild(percent);\n",
              "\n",
              "    outputElement.appendChild(li);\n",
              "\n",
              "    const fileDataPromise = new Promise((resolve) => {\n",
              "      const reader = new FileReader();\n",
              "      reader.onload = (e) => {\n",
              "        resolve(e.target.result);\n",
              "      };\n",
              "      reader.readAsArrayBuffer(file);\n",
              "    });\n",
              "    // Wait for the data to be ready.\n",
              "    let fileData = yield {\n",
              "      promise: fileDataPromise,\n",
              "      response: {\n",
              "        action: 'continue',\n",
              "      }\n",
              "    };\n",
              "\n",
              "    // Use a chunked sending to avoid message size limits. See b/62115660.\n",
              "    let position = 0;\n",
              "    do {\n",
              "      const length = Math.min(fileData.byteLength - position, MAX_PAYLOAD_SIZE);\n",
              "      const chunk = new Uint8Array(fileData, position, length);\n",
              "      position += length;\n",
              "\n",
              "      const base64 = btoa(String.fromCharCode.apply(null, chunk));\n",
              "      yield {\n",
              "        response: {\n",
              "          action: 'append',\n",
              "          file: file.name,\n",
              "          data: base64,\n",
              "        },\n",
              "      };\n",
              "\n",
              "      let percentDone = fileData.byteLength === 0 ?\n",
              "          100 :\n",
              "          Math.round((position / fileData.byteLength) * 100);\n",
              "      percent.textContent = `${percentDone}% done`;\n",
              "\n",
              "    } while (position < fileData.byteLength);\n",
              "  }\n",
              "\n",
              "  // All done.\n",
              "  yield {\n",
              "    response: {\n",
              "      action: 'complete',\n",
              "    }\n",
              "  };\n",
              "}\n",
              "\n",
              "scope.google = scope.google || {};\n",
              "scope.google.colab = scope.google.colab || {};\n",
              "scope.google.colab._files = {\n",
              "  _uploadFiles,\n",
              "  _uploadFilesContinue,\n",
              "};\n",
              "})(self);\n",
              "</script> "
            ],
            "text/plain": [
              "<IPython.core.display.HTML object>"
            ]
          },
          "metadata": {},
          "output_type": "display_data"
        },
        {
          "ename": "TypeError",
          "evalue": "ignored",
          "output_type": "error",
          "traceback": [
            "\u001b[0;31m---------------------------------------------------------------------------\u001b[0m",
            "\u001b[0;31mTypeError\u001b[0m                                 Traceback (most recent call last)",
            "\u001b[0;32m<ipython-input-1-7a68b67964d3>\u001b[0m in \u001b[0;36m<cell line: 3>\u001b[0;34m()\u001b[0m\n\u001b[1;32m      1\u001b[0m \u001b[0;32mfrom\u001b[0m \u001b[0msklearn\u001b[0m\u001b[0;34m.\u001b[0m\u001b[0mmodel_selection\u001b[0m \u001b[0;32mimport\u001b[0m \u001b[0mtrain_test_split\u001b[0m\u001b[0;34m;\u001b[0m\u001b[0;34m\u001b[0m\u001b[0;34m\u001b[0m\u001b[0m\n\u001b[1;32m      2\u001b[0m \u001b[0;32mfrom\u001b[0m \u001b[0mgoogle\u001b[0m\u001b[0;34m.\u001b[0m\u001b[0mcolab\u001b[0m \u001b[0;32mimport\u001b[0m \u001b[0mfiles\u001b[0m\u001b[0;34m;\u001b[0m\u001b[0;34m\u001b[0m\u001b[0;34m\u001b[0m\u001b[0m\n\u001b[0;32m----> 3\u001b[0;31m \u001b[0mNoLinearData\u001b[0m\u001b[0;34m=\u001b[0m \u001b[0mfiles\u001b[0m\u001b[0;34m.\u001b[0m\u001b[0mupload\u001b[0m\u001b[0;34m(\u001b[0m\u001b[0;34m)\u001b[0m\u001b[0;34m;\u001b[0m\u001b[0;34m\u001b[0m\u001b[0;34m\u001b[0m\u001b[0m\n\u001b[0m",
            "\u001b[0;32m/usr/local/lib/python3.10/dist-packages/google/colab/files.py\u001b[0m in \u001b[0;36mupload\u001b[0;34m()\u001b[0m\n\u001b[1;32m     67\u001b[0m   \"\"\"\n\u001b[1;32m     68\u001b[0m \u001b[0;34m\u001b[0m\u001b[0m\n\u001b[0;32m---> 69\u001b[0;31m   \u001b[0muploaded_files\u001b[0m \u001b[0;34m=\u001b[0m \u001b[0m_upload_files\u001b[0m\u001b[0;34m(\u001b[0m\u001b[0mmultiple\u001b[0m\u001b[0;34m=\u001b[0m\u001b[0;32mTrue\u001b[0m\u001b[0;34m)\u001b[0m\u001b[0;34m\u001b[0m\u001b[0;34m\u001b[0m\u001b[0m\n\u001b[0m\u001b[1;32m     70\u001b[0m   \u001b[0;31m# Mapping from original filename to filename as saved locally.\u001b[0m\u001b[0;34m\u001b[0m\u001b[0;34m\u001b[0m\u001b[0m\n\u001b[1;32m     71\u001b[0m   \u001b[0mlocal_filenames\u001b[0m \u001b[0;34m=\u001b[0m \u001b[0mdict\u001b[0m\u001b[0;34m(\u001b[0m\u001b[0;34m)\u001b[0m\u001b[0;34m\u001b[0m\u001b[0;34m\u001b[0m\u001b[0m\n",
            "\u001b[0;32m/usr/local/lib/python3.10/dist-packages/google/colab/files.py\u001b[0m in \u001b[0;36m_upload_files\u001b[0;34m(multiple)\u001b[0m\n\u001b[1;32m    161\u001b[0m   \u001b[0mfiles\u001b[0m \u001b[0;34m=\u001b[0m \u001b[0m_collections\u001b[0m\u001b[0;34m.\u001b[0m\u001b[0mdefaultdict\u001b[0m\u001b[0;34m(\u001b[0m\u001b[0mbytes\u001b[0m\u001b[0;34m)\u001b[0m\u001b[0;34m\u001b[0m\u001b[0;34m\u001b[0m\u001b[0m\n\u001b[1;32m    162\u001b[0m \u001b[0;34m\u001b[0m\u001b[0m\n\u001b[0;32m--> 163\u001b[0;31m   \u001b[0;32mwhile\u001b[0m \u001b[0mresult\u001b[0m\u001b[0;34m[\u001b[0m\u001b[0;34m'action'\u001b[0m\u001b[0;34m]\u001b[0m \u001b[0;34m!=\u001b[0m \u001b[0;34m'complete'\u001b[0m\u001b[0;34m:\u001b[0m\u001b[0;34m\u001b[0m\u001b[0;34m\u001b[0m\u001b[0m\n\u001b[0m\u001b[1;32m    164\u001b[0m     result = _output.eval_js(\n\u001b[1;32m    165\u001b[0m         'google.colab._files._uploadFilesContinue(\"{output_id}\")'.format(\n",
            "\u001b[0;31mTypeError\u001b[0m: 'NoneType' object is not subscriptable"
          ]
        }
      ],
      "source": [
        "from sklearn.model_selection import train_test_split;\n",
        "from google.colab import files;\n",
        "NoLinearData= files.upload();"
      ]
    },
    {
      "cell_type": "code",
      "execution_count": null,
      "metadata": {
        "id": "oHILrsXUE8z8"
      },
      "outputs": [],
      "source": [
        "import pandas as pd;\n",
        "import numpy as np\n",
        "from scipy.interpolate import UnivariateSpline\n",
        "import matplotlib.pyplot as plt\n",
        "#from sklearn.metrics import mean_squared_errorD\n"
      ]
    },
    {
      "cell_type": "code",
      "execution_count": null,
      "metadata": {
        "id": "-a8E7GBCE9gW"
      },
      "outputs": [],
      "source": [
        "data= pd.read_csv(\"NewDataset.csv\")"
      ]
    },
    {
      "cell_type": "code",
      "execution_count": null,
      "metadata": {
        "id": "Gd724x3Wx_sm"
      },
      "outputs": [],
      "source": [
        "data"
      ]
    },
    {
      "cell_type": "code",
      "execution_count": null,
      "metadata": {
        "id": "2Py6dVXntbG2"
      },
      "outputs": [],
      "source": [
        "pairs_of_data_level3 = []"
      ]
    },
    {
      "cell_type": "code",
      "execution_count": null,
      "metadata": {
        "id": "C_1x6dp6x3Vb"
      },
      "outputs": [],
      "source": [
        "for column in data.columns:# here we split all the dataset in pairs X with A1,2,3...n\n",
        "    if column.startswith('A'):\n",
        "        par_de_datos = data[['X', column]].values#here it splits in pairs X wit cont\n",
        "        pairs_of_data_level3.append(par_de_datos)"
      ]
    },
    {
      "cell_type": "code",
      "execution_count": null,
      "metadata": {
        "colab": {
          "base_uri": "https://localhost:8080/"
        },
        "id": "QAtGoFiDywI8",
        "outputId": "8020ca35-64b7-4a29-9b76-8211a65f484d"
      },
      "outputs": [
        {
          "name": "stdout",
          "output_type": "stream",
          "text": [
            "[ 0.    2.12  3.06  4.16  4.93  6.09  6.57 12.72 18.95 20.2  26.32 26.58\n",
            " 28.48 28.91 29.71 31.44 31.65 37.52 38.66 39.98 41.01 41.92 43.08 48.78\n",
            " 50.  ]\n"
          ]
        }
      ],
      "source": [
        "from tensorflow.python.ops.gen_math_ops import Xdivy\n",
        "from re import X\n",
        "\n",
        "\n",
        "print(pairs_of_data_level3[0][:,0]);\n",
        "\n",
        "X=pairs_of_data_level3[0][:,0]\n",
        "y=pairs_of_data_level3[0][:,1]"
      ]
    },
    {
      "cell_type": "markdown",
      "metadata": {
        "id": "vdw_QyCAzCzO"
      },
      "source": [
        "In this part, I am going to do the main function. For any pairs of data with \"X\" and \"An\" I am going to do splines method,  furier method, kernel method and Least Squares Method and then I am going to plot them in a single graph"
      ]
    },
    {
      "cell_type": "markdown",
      "metadata": {
        "id": "9QYO1Ai6bJQw"
      },
      "source": [
        "\n",
        "\n",
        "---\n",
        "\n"
      ]
    },
    {
      "cell_type": "markdown",
      "metadata": {
        "id": "XV-MLryNbNVw"
      },
      "source": [
        "Splines"
      ]
    },
    {
      "cell_type": "code",
      "execution_count": null,
      "metadata": {
        "id": "nO-OYDacbFtO"
      },
      "outputs": [],
      "source": [
        "def fiting_spline(x, y):# the function\n",
        "    spline = UnivariateSpline(x, y, k=5)  # k=3 for spline cúbic\n",
        "    return spline"
      ]
    },
    {
      "cell_type": "markdown",
      "metadata": {
        "id": "UMF0wFCbbZpu"
      },
      "source": [
        "MAIN"
      ]
    },
    {
      "cell_type": "code",
      "execution_count": null,
      "metadata": {
        "id": "u89fS5cWefvP"
      },
      "outputs": [],
      "source": [
        "cont=1\n",
        "mse=[]"
      ]
    },
    {
      "cell_type": "code",
      "execution_count": null,
      "metadata": {
        "colab": {
          "base_uri": "https://localhost:8080/",
          "height": 527
        },
        "id": "Fh5NaxV6v6Q-",
        "outputId": "8daa38d3-da6b-4e21-c394-667ace1912c7"
      },
      "outputs": [
        {
          "name": "stderr",
          "output_type": "stream",
          "text": [
            "WARNING:matplotlib.legend:No artists with labels found to put in legend.  Note that artists whose label start with an underscore are ignored when legend() is called with no argument.\n"
          ]
        },
        {
          "data": {
            "image/png": "[encoded data removed]",
            "text/plain": [
              "<Figure size 640x480 with 1 Axes>"
            ]
          },
          "metadata": {},
          "output_type": "display_data"
        },
        {
          "name": "stdout",
          "output_type": "stream",
          "text": [
            "MSE: 0.026655237197452535\n"
          ]
        }
      ],
      "source": [
        "fig, ax = plt.subplots()\n",
        "ax.set_xlabel('X')\n",
        "ax.set_ylabel('Y')\n",
        "ax.set_title('Fiting Spline')\n",
        "\n",
        "for par_de_datos in pairs_of_data_level3:\n",
        "\n",
        "  X=par_de_datos[:,0]\n",
        "  y=par_de_datos[:,1]\n",
        "\n",
        "  #SPLINES\n",
        "\n",
        "  #First I must split the data for training an Testing\n",
        "  Xtraining, Xtest, Ytraining,Ytest=train_test_split(X,y,test_size=0.20, random_state=42)\n",
        "\n",
        "  #Splines required the dataset to be order\n",
        "  sorted_indices = np.argsort(Xtraining)\n",
        "  Xtraining = Xtraining[sorted_indices]\n",
        "  Ytraining = Ytraining[sorted_indices]\n",
        "  #Here I use the function\n",
        "\n",
        "  #Training\n",
        "  spline1=fiting_spline(Xtraining,Ytraining)\n",
        "  #testing\n",
        "  x_eval = np.linspace(min(Xtest), max(Xtest), 100)\n",
        "  y_eval = spline1(x_eval)\n",
        "\n",
        "  # Plotting the graph\n",
        "\n",
        "  ax.scatter(Xtraining, Ytraining,  color='blue')#label='Datos Originales',\n",
        "  ax.plot(x_eval, y_eval,  color='red')#label='Spline Ajustado',\n",
        "  #The error\n",
        "  mse = np.mean((spline1(Xtest) - Ytest) ** 2)\n",
        "\n",
        "\n",
        "ax.legend()\n",
        "plt.show()\n",
        "\n",
        "\n",
        "print(f'MSE: {mse}')\n",
        "\n"
      ]
    },
    {
      "cell_type": "markdown",
      "metadata": {
        "id": "-07u2YBLbAS1"
      },
      "source": [
        "\n",
        "\n",
        "---\n",
        "\n"
      ]
    },
    {
      "cell_type": "markdown",
      "metadata": {
        "id": "4K3PzUhhkH3p"
      },
      "source": [
        "Least Squares\n"
      ]
    },
    {
      "cell_type": "code",
      "execution_count": null,
      "metadata": {
        "id": "WkaMNHVdkV_L"
      },
      "outputs": [],
      "source": [
        "import numpy as np\n",
        "import matplotlib.pyplot as plt\n",
        "from sklearn.model_selection import train_test_split\n",
        "from sklearn.metrics import mean_squared_error\n",
        "\n",
        "# Create a figure and axis for plotting\n",
        "fig, ax = plt.subplots()\n",
        "ax.set_xlabel('X')\n",
        "ax.set_ylabel('Y')\n",
        "ax.set_title('Fitting Spline')\n",
        "\n",
        "# Loop through pairs of data in pairs_of_data_level3\n",
        "for par_de_datos in pairs_of_data_level3:\n",
        "    X = par_de_datos[:, 0]\n",
        "    y = par_de_datos[:, 1]\n",
        "\n",
        "    # Polynomial fitting\n",
        "    degree = 3  # Degree of the polynomial\n",
        "    coeffs = np.polyfit(X, y, degree)\n",
        "    polynomial_fitting = np.poly1d(coeffs)\n",
        "\n",
        "    # Split the data into training and testing sets\n",
        "    Xtraining, Xtest, Ytraining, Ytest = train_test_split(X, y, test_size=0.20, random_state=42)\n",
        "\n",
        "    # Polynomial fitting on the training data only\n",
        "    coeffs_train = np.polyfit(Xtraining, Ytraining, degree)\n",
        "    polynomial_fitted_train = np.poly1d(coeffs_train)\n",
        "\n",
        "    # Calculate the fitted values for all X points in the training set\n",
        "    values_fitted_train = polynomial_fitted_train(Xtraining)\n",
        "\n",
        "    # Calculate the fitted values for all X points in the testing set\n",
        "    values_fitted_test = polynomial_fitted_train(Xtest)\n",
        "\n",
        "    # Calculate the mean squared error for the testing set\n",
        "    mse = mean_squared_error(Ytest, values_fitted_test)\n",
        "\n",
        "    # Plot original data points and fitted lines for both training and testing sets\n",
        "    plt.scatter(Xtraining, Ytraining, label=f'Training Data (MSE={mse:.2f})', color='blue')\n",
        "    plt.scatter(Xtest, Ytest, label='Testing Data', color='green')\n",
        "    x_eval = np.linspace(min(X), max(X), 100)\n",
        "    y_eval = polynomial_fitting(x_eval)\n",
        "    plt.plot(x_eval, y_eval, label=f'Polynomial Fitting (Degree {degree})', color='red')\n",
        "\n",
        "# Add a legend to the plot\n",
        "ax.legend()\n",
        "plt.show()"
      ]
    },
    {
      "cell_type": "markdown",
      "metadata": {
        "id": "wnHosiUCp9XC"
      },
      "source": [
        "\n",
        "\n",
        "---\n",
        "\n"
      ]
    },
    {
      "cell_type": "markdown",
      "metadata": {
        "id": "vpacbuYPsIh5"
      },
      "source": [
        "FUrier"
      ]
    },
    {
      "cell_type": "code",
      "execution_count": null,
      "metadata": {
        "id": "hoMWW99tqBWT"
      },
      "outputs": [],
      "source": [
        "import numpy as np\n",
        "import matplotlib.pyplot as plt\n",
        "from sklearn.metrics import mean_squared_error\n",
        "\n",
        "fig, ax = plt.subplots()\n",
        "ax.set_xlabel('X')\n",
        "ax.set_ylabel('Y')\n",
        "ax.set_title('Fourier Fitting')\n",
        "\n",
        "for par_de_datos in pairs_of_data_level3:\n",
        "    X = par_de_datos[:, 0]\n",
        "    y = par_de_datos[:, 1]\n",
        "\n",
        "    # Fourier fitting\n",
        "    n_harmonics = 2  # Number of harmonics to use in the Fourier series\n",
        "    N = len(X)  # Number of data points\n",
        "\n",
        "    # Create a matrix to hold the Fourier basis functions\n",
        "    fourier_basis = np.zeros((N, 2 * n_harmonics + 1))\n",
        "    for i in range(n_harmonics + 1):\n",
        "      fourier_basis[:, 2 * i] = np.cos(2 * np.pi * i * X / X.max())\n",
        "      if i > 0 and 2 * i + 1 < 2 * n_harmonics + 1:\n",
        "        fourier_basis[:, 2 * i + 1] = np.sin(2 * np.pi * i * X / X.max())\n",
        "\n",
        "    # Fit the data using linear regression\n",
        "    coeffs, residuals, rank, s = np.linalg.lstsq(fourier_basis, y, rcond=None)\n",
        "\n",
        "    # Calculate the fitted values using the Fourier basis functions\n",
        "    fitted_values = np.dot(fourier_basis, coeffs)\n",
        "\n",
        "    # Calculate the mean squared error\n",
        "    mse = mean_squared_error(y, fitted_values)\n",
        "\n",
        "    # Plot original data and the Fourier fitting\n",
        "    plt.scatter(X, y, label=f'Data (MSE={mse:.2f})', color='blue')\n",
        "    plt.plot(X, fitted_values, label=f'Fourier Fitting (Harmonics {n_harmonics})', color='red')\n",
        "\n",
        "# Add a legend to the plot\n",
        "ax.legend()\n",
        "plt.show()\n",
        "\n"
      ]
    },
    {
      "cell_type": "markdown",
      "metadata": {
        "id": "rS9nfz7nsRzQ"
      },
      "source": [
        "\n",
        "\n",
        "---\n",
        "\n"
      ]
    },
    {
      "cell_type": "markdown",
      "metadata": {
        "id": "Sd16TkBUsTbV"
      },
      "source": [
        "Kernel"
      ]
    },
    {
      "cell_type": "code",
      "execution_count": null,
      "metadata": {
        "colab": {
          "background_save": true
        },
        "id": "0rC1gJaxsl_5"
      },
      "outputs": [],
      "source": [
        "import numpy as np\n",
        "import matplotlib.pyplot as plt\n",
        "from sklearn.metrics import mean_squared_error\n",
        "from sklearn.kernel_ridge import KernelRidge\n",
        "\n",
        "# Create a plot\n",
        "fig, ax = plt.subplots()\n",
        "ax.set_xlabel('X')\n",
        "ax.set_ylabel('Y')\n",
        "ax.set_title('Kernel Ridge Regression')\n",
        "\n",
        "# Loop through pairs of data\n",
        "for par_de_datos in pairs_of_data_level3:\n",
        "    X = par_de_datos[:, 0]\n",
        "    y = par_de_datos[:, 1]\n",
        "\n",
        "    # Kernel Ridge Regression\n",
        "    kernel = 'rbf'  # Type of kernel, in this case, the radial kernel (Gaussian)\n",
        "    alpha = 1.0  # Regularization parameter\n",
        "\n",
        "    # Create a Kernel Ridge Regression model\n",
        "    model = KernelRidge(alpha=alpha, kernel=kernel)\n",
        "    model.fit(X.reshape(-1, 1), y.reshape(-1, 1))\n",
        "\n",
        "    # Predict the fitted values\n",
        "    y_pred = model.predict(X.reshape(-1, 1))\n",
        "\n",
        "    # Calculate the mean squared error\n",
        "    mse = mean_squared_error(y, y_pred)\n",
        "\n",
        "    # Plot the original data and the Kernel Ridge fit\n",
        "    plt.scatter(X, y, label=f'Data (MSE={mse:.2f})', color='blue')\n",
        "    plt.plot(X, y_pred, label=f'Kernel Ridge (Kernel={kernel}, Alpha={alpha})', color='red')\n",
        "\n",
        "# Add a legend to the plot\n",
        "ax.legend()\n",
        "plt.show()\n",
        "\n"
      ]
    },
    {
      "cell_type": "code",
      "execution_count": null,
      "metadata": {
        "colab": {
          "base_uri": "https://localhost:8080/"
        },
        "id": "RT7RdMBA0Shy",
        "outputId": "1fdd2425-8c5a-496d-f099-dfd1f84eb6db"
      },
      "outputs": [
        {
          "name": "stdout",
          "output_type": "stream",
          "text": [
            "Coeficiente a: -4.5641003022493286e-05\n",
            "Coeficiente b: 0.0035952075516175646\n",
            "Coeficiente c: -0.08360516863950002\n",
            "Coeficiente d: 17.99989994036833\n"
          ]
        }
      ],
      "source": [
        "a, b, c, d = coefficients\n",
        "\n",
        "# Imprimir los coeficientes\n",
        "print(f\"Coeficiente a: {a}\")\n",
        "print(f\"Coeficiente b: {b}\")\n",
        "print(f\"Coeficiente c: {c}\")\n",
        "print(f\"Coeficiente d: {d}\")"
      ]
    },
    {
      "cell_type": "markdown",
      "metadata": {
        "id": "axXliYo30lzd"
      },
      "source": [
        "predicction"
      ]
    },
    {
      "cell_type": "code",
      "execution_count": null,
      "metadata": {
        "colab": {
          "base_uri": "https://localhost:8080/"
        },
        "id": "860ejq360lLe",
        "outputId": "9ce8df0e-c51a-4e57-af5d-3c278574776b"
      },
      "outputs": [
        {
          "name": "stdout",
          "output_type": "stream",
          "text": [
            "Predicciones en los datos de prueba:\n",
            "[17.39604334 17.50817069 17.99989994 17.17877735 17.46059822]\n"
          ]
        }
      ],
      "source": [
        "\n",
        "Yprediccion = a * Xprueba**3 + b * Xprueba**2 + c * Xprueba + d\n",
        "print(\"Predicciones en los datos de prueba:\")\n",
        "print(Yprediccion)"
      ]
    },
    {
      "cell_type": "code",
      "execution_count": null,
      "metadata": {
        "colab": {
          "base_uri": "https://localhost:8080/"
        },
        "id": "_e507EDz1GmD",
        "outputId": "76b075fc-a2da-4971-e0d4-89059f34ac49"
      },
      "outputs": [
        {
          "name": "stdout",
          "output_type": "stream",
          "text": [
            "Error Cuadrático Medio (MSE): 0.037277441757784746\n"
          ]
        }
      ],
      "source": [
        "mse = mean_squared_error(Yprueba, Yprediccion)\n",
        "\n",
        "# Imprime el valor del MSE\n",
        "print(f\"Error Cuadrático Medio (MSE): {mse}\")"
      ]
    },
    {
      "cell_type": "code",
      "execution_count": null,
      "metadata": {
        "id": "t_Mr_oYS11Qh"
      },
      "outputs": [],
      "source": [
        "a, b, c, d = coefficients\n",
        "x_grafica = np.linspace(min(Xentrenamiento), max(Xentrenamiento), 100)\n",
        "y_grafica = a * x_grafica**3 + b * x_grafica**2 + c * x_grafica + d"
      ]
    },
    {
      "cell_type": "code",
      "execution_count": null,
      "metadata": {
        "colab": {
          "base_uri": "https://localhost:8080/",
          "height": 565
        },
        "id": "Rxym77JI2CH9",
        "outputId": "f23c2847-4037-41a6-c69a-d1bcbf67bd34"
      },
      "outputs": [
        {
          "data": {
            "image/png": "[encoded data removed]",
            "text/plain": [
              "<Figure size 800x600 with 1 Axes>"
            ]
          },
          "metadata": {},
          "output_type": "display_data"
        }
      ],
      "source": [
        "plt.figure(figsize=(8, 6))\n",
        "plt.scatter(Xentrenamiento, Yentrenamiento, label=\"Datos reales\", color=\"blue\")\n",
        "plt.plot(x_grafica, y_grafica, label=\"Modelo cúbico ajustado\", color=\"red\")\n",
        "plt.xlabel(\"Variable Independiente (x)\")\n",
        "plt.ylabel(\"Variable Dependiente (y)\")\n",
        "plt.title(\"Ajuste de un Modelo Cúbico\")\n",
        "plt.legend()\n",
        "plt.grid(True)\n",
        "plt.show()"
      ]
    },
    {
      "cell_type": "markdown",
      "metadata": {
        "id": "xd4bwDy_Io9l"
      },
      "source": [
        "I am going to import the tensorflow library for to make a neural-network, just for entraing"
      ]
    },
    {
      "cell_type": "code",
      "execution_count": null,
      "metadata": {
        "id": "G14dTBcSIl2v"
      },
      "outputs": [],
      "source": [
        "import tensorflow as tf\n",
        "import numpy as np\n",
        "import matplotlib.pyplot as plt\n"
      ]
    },
    {
      "cell_type": "markdown",
      "metadata": {
        "id": "5Y-HPLBNKKrm"
      },
      "source": [
        "Bulding the dataset."
      ]
    },
    {
      "cell_type": "code",
      "execution_count": null,
      "metadata": {
        "id": "HZh_r_kiJ9Gk"
      },
      "outputs": [],
      "source": [
        "entrada=np.array([1,6,30,7,70,43,505,201,1005,99],dtype=float);\n",
        "resultados=np.array([0.0254,0.1524,0.762,0.1778,1.778,1.0922,12.776,5.1054,25.527,2.514],dtype= float)"
      ]
    },
    {
      "cell_type": "markdown",
      "metadata": {
        "id": "ofd0Fxb4LCpa"
      },
      "source": [
        "Then we chosee the model\n"
      ]
    },
    {
      "cell_type": "code",
      "execution_count": null,
      "metadata": {
        "id": "qC0QGceHLBxJ"
      },
      "outputs": [],
      "source": [
        "capa1=tf.keras.layers.Dense(units=1, input_shape=[1])"
      ]
    },
    {
      "cell_type": "markdown",
      "metadata": {
        "id": "WD_A2nQyMxqh"
      },
      "source": [
        "Creating the kind of network"
      ]
    },
    {
      "cell_type": "code",
      "execution_count": null,
      "metadata": {
        "id": "cUVEXY15M6Pw"
      },
      "outputs": [],
      "source": [
        "modelo=tf.keras.Sequential([capa1])\n"
      ]
    },
    {
      "cell_type": "markdown",
      "metadata": {
        "id": "vhrOsIuXNMT9"
      },
      "source": [
        "Assing the optimazier"
      ]
    },
    {
      "cell_type": "code",
      "execution_count": null,
      "metadata": {
        "id": "U688VTOrNPuy"
      },
      "outputs": [],
      "source": [
        "\n",
        "modelo.compile(\n",
        "\n",
        "    optimizer=tf.keras.optimizers.Adam(0.1),\n",
        "\n",
        "    loss='mean_squared_error')\n",
        "\n"
      ]
    },
    {
      "cell_type": "code",
      "execution_count": null,
      "metadata": {
        "colab": {
          "base_uri": "https://localhost:8080/"
        },
        "id": "NzU_XRKwN236",
        "outputId": "e0cedeca-2a88-471a-ea50-f3f586b9d431"
      },
      "outputs": [
        {
          "name": "stdout",
          "output_type": "stream",
          "text": [
            "Entrenando la red\n",
            "Terminamos\n"
          ]
        }
      ],
      "source": [
        "print(\"Entrenando la red\")\n",
        "entrenamiento=modelo.fit(entrada,resultados, epochs=500, verbose=False)\n",
        "print(\"Terminamos\")"
      ]
    },
    {
      "cell_type": "code",
      "execution_count": null,
      "metadata": {
        "id": "Kzs12LqsOqBv"
      },
      "outputs": [],
      "source": [
        "modelo.save(\"redNeuronal.h5\")\n",
        "modelo.sabe_weights(\"pesos.h5\")"
      ]
    },
    {
      "cell_type": "code",
      "execution_count": null,
      "metadata": {
        "id": "JLxTmGhlQ9UD"
      },
      "outputs": [],
      "source": []
    },
    {
      "cell_type": "code",
      "execution_count": null,
      "metadata": {
        "colab": {
          "base_uri": "https://localhost:8080/"
        },
        "id": "-tZThqvxOrBL",
        "outputId": "3532b626-aaf8-411a-a0ee-739b4b0c1bbe"
      },
      "outputs": [
        {
          "name": "stdout",
          "output_type": "stream",
          "text": [
            "Ingresar el valor en pulgadas: 800\n",
            "1/1 [==============================] - 0s 39ms/step\n",
            "Prediccion:  [[20.30476]]\n"
          ]
        }
      ],
      "source": [
        "#prediccion\n",
        "\n",
        "i=input(\"Ingresar el valor en pulgadas: \")\n",
        "i=float(i)\n",
        "prediccion=modelo.predict([i]);\n",
        "\n",
        "print(\"Prediccion: \",str(prediccion))\n",
        "\n"
      ]
    }
  ],
  "metadata": {
    "colab": {
      "provenance": [],
      "authorship_tag": "ABX9TyNuf2y6sIBFqNb92vYJX1MZ",
      "include_colab_link": true
    },
    "kernelspec": {
      "display_name": "Python 3",
      "name": "python3"
    },
    "language_info": {
      "name": "python"
    }
  },
  "nbformat": 4,
  "nbformat_minor": 0
}